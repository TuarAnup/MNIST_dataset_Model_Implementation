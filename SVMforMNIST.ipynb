{
  "nbformat": 4,
  "nbformat_minor": 0,
  "metadata": {
    "colab": {
      "name": "SVMforMNIST.ipynb",
      "provenance": [],
      "collapsed_sections": []
    },
    "kernelspec": {
      "name": "python3",
      "display_name": "Python 3"
    },
    "language_info": {
      "name": "python"
    }
  },
  "cells": [
    {
      "cell_type": "code",
      "execution_count": 2,
      "metadata": {
        "id": "7Qwqtnp0JdRv"
      },
      "outputs": [],
      "source": [
        "from keras.datasets import mnist\n",
        "import cv2\n",
        "import numpy as np\n",
        "import pandas as pd\n",
        "import tensorflow as tf\n",
        "\n",
        "(xtrain, ytrain), (xtest, ytest) = mnist.load_data()"
      ]
    },
    {
      "cell_type": "code",
      "source": [
        "xtrain.shape"
      ],
      "metadata": {
        "colab": {
          "base_uri": "https://localhost:8080/"
        },
        "id": "L0V1RV7jv6i6",
        "outputId": "89bb9a1b-150d-4979-f702-cfee5c39b90d"
      },
      "execution_count": 10,
      "outputs": [
        {
          "output_type": "execute_result",
          "data": {
            "text/plain": [
              "(60000, 784)"
            ]
          },
          "metadata": {},
          "execution_count": 10
        }
      ]
    },
    {
      "cell_type": "code",
      "source": [
        "#reshaping data as needed by the model\n",
        "xtrain=np.reshape(xtrain,(-1,28*28))\n",
        "xtest=np.reshape(xtest,(-1,28*28))\n",
        "# ytrain = np.reshape(ytrain,(-1,10))\n",
        "# ytest = np.reshape()\n",
        "xtrain.shape,xtest.shape,ytrain.shape,ytest.shape"
      ],
      "metadata": {
        "colab": {
          "base_uri": "https://localhost:8080/"
        },
        "id": "phjMkr84KJ43",
        "outputId": "227b8266-b408-461c-854f-e6c3f5928ca7"
      },
      "execution_count": 3,
      "outputs": [
        {
          "output_type": "execute_result",
          "data": {
            "text/plain": [
              "((60000, 784), (10000, 784), (60000,), (10000,))"
            ]
          },
          "metadata": {},
          "execution_count": 3
        }
      ]
    },
    {
      "cell_type": "code",
      "source": [
        "#normalising \n",
        "xtrain=xtrain/255\n",
        "xtest=xtest/255"
      ],
      "metadata": {
        "id": "GgxxBQkqLIP2"
      },
      "execution_count": 4,
      "outputs": []
    },
    {
      "cell_type": "code",
      "source": [
        "# #implementing one hot encoding\n",
        "# from keras.utils.np_utils import to_categorical\n",
        "# y_train = to_categorical(ytrain, num_classes=10)\n",
        "# y_test = to_categorical(ytest, num_classes=10)"
      ],
      "metadata": {
        "id": "Z5REGRUkLLK_"
      },
      "execution_count": 5,
      "outputs": []
    },
    {
      "cell_type": "code",
      "source": [
        "from sklearn.svm import SVC\n",
        "classifier = SVC(kernel='linear',random_state = 0)\n",
        "classifier.fit(xtrain,ytrain)"
      ],
      "metadata": {
        "colab": {
          "base_uri": "https://localhost:8080/"
        },
        "id": "-jErh2bpLTBi",
        "outputId": "c1166073-8ebd-45bd-ee95-bf03f8ff771c"
      },
      "execution_count": 6,
      "outputs": [
        {
          "output_type": "execute_result",
          "data": {
            "text/plain": [
              "SVC(kernel='linear', random_state=0)"
            ]
          },
          "metadata": {},
          "execution_count": 6
        }
      ]
    },
    {
      "cell_type": "code",
      "source": [
        "#Making the Confusion Matrix\n",
        "\n",
        "from sklearn.metrics import confusion_matrix, accuracy_score\n",
        "y_pred = classifier.predict(xtest)\n",
        "cm = confusion_matrix(ytest, y_pred)\n",
        "print(cm) \n",
        "accuracy_score(ytest, y_pred)"
      ],
      "metadata": {
        "colab": {
          "base_uri": "https://localhost:8080/"
        },
        "id": "m66-xZX4k4YX",
        "outputId": "4dfc1f0a-976d-4053-d14b-12cc7e53ae30"
      },
      "execution_count": 8,
      "outputs": [
        {
          "output_type": "stream",
          "name": "stdout",
          "text": [
            "[[ 957    0    4    1    1    6    9    1    0    1]\n",
            " [   0 1122    3    2    0    1    2    1    4    0]\n",
            " [   8    6  967   11    3    3    7    8   17    2]\n",
            " [   4    3   16  947    1   16    0    9   12    2]\n",
            " [   1    1   10    1  942    2    4    2    3   16]\n",
            " [  10    4    3   36    6  803   13    1   14    2]\n",
            " [   9    2   13    1    5   16  910    1    1    0]\n",
            " [   1    8   21   10    8    1    0  957    3   19]\n",
            " [   8    4    6   25    7   26    6    7  877    8]\n",
            " [   7    7    2   11   33    4    0   18    5  922]]\n"
          ]
        },
        {
          "output_type": "execute_result",
          "data": {
            "text/plain": [
              "0.9404"
            ]
          },
          "metadata": {},
          "execution_count": 8
        }
      ]
    }
  ]
}